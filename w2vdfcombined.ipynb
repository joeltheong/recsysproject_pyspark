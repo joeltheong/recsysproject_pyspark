{
 "cells": [
  {
   "cell_type": "code",
   "execution_count": 1,
   "metadata": {},
   "outputs": [],
   "source": [
    "# Java\n",
    "import os\n",
    "os.environ[\"JAVA_HOME\"] = \"C:/Program Files/Java/jdk1.8.0_311\"\n",
    "os.environ[\"SPARK_HOME\"] = \"C:/spark-3.2.1-bin-hadoop2.7\"\n",
    "\n",
    "# Initiating Spark Session\n",
    "import findspark\n",
    "findspark.init()\n",
    "from pyspark.sql import SparkSession\n",
    "spark = SparkSession.builder.appName(\"word2vec\").config(\"spark.driver.memory\", \"2g\").getOrCreate()\n",
    "\n",
    "# Initiating spark context\n",
    "from pyspark import SparkConf\n",
    "from pyspark import SparkContext\n",
    "sc = spark.sparkContext"
   ]
  },
  {
   "cell_type": "code",
   "execution_count": 2,
   "metadata": {},
   "outputs": [],
   "source": [
    "# Data wrangling\n",
    "import numpy as np\n",
    "import pandas as pd\n",
    "\n",
    "# NLP\n",
    "from operator import add\n",
    "from pyspark.ml.feature import RegexTokenizer, CountVectorizer\n",
    "from pyspark.ml.feature import StopWordsRemover, VectorAssembler\n",
    "from pyspark.ml.feature import Word2Vec, Word2VecModel\n",
    "from pyspark.ml.feature import IDF\n",
    "from pyspark.ml import Pipeline, PipelineModel\n",
    "\n",
    "# SQL\n",
    "from pyspark.sql.functions import *\n",
    "from pyspark.sql.types import *\n",
    "from pyspark.sql.types import StructType, StructField\n",
    "from pyspark.sql import Row\n",
    "from pyspark.sql.functions import split, col\n",
    "from pyspark.sql import functions as f\n"
   ]
  },
  {
   "cell_type": "code",
   "execution_count": 102,
   "metadata": {},
   "outputs": [],
   "source": [
    "# Stop Spark session\n",
    "sc.stop()"
   ]
  },
  {
   "cell_type": "code",
   "execution_count": 3,
   "metadata": {},
   "outputs": [],
   "source": [
    "# Define your own schema\n",
    "schema = StructType([ \\\n",
    "    StructField(\"id\",StringType(),True), \\\n",
    "    StructField(\"name\",StringType(),True), \\\n",
    "    StructField(\"ingredients\", StringType(),True), \\\n",
    "    StructField(\"steps\",StringType(),True), \\\n",
    "    StructField(\"source\",StringType(),True)])    \n",
    "\n",
    "data = spark.read.format('csv') \\\n",
    "                    .option(\"schema\",\"schema\") \\\n",
    "                    .option(\"sep\",\",\") \\\n",
    "                    .option(\"header\",\"true\") \\\n",
    "                    .option(\"quote\",\"\\\"\") \\\n",
    "                    .option(\"escape\", \"\\\"\") \\\n",
    "                    .load(\"input/dfcombined.csv\")"
   ]
  },
  {
   "cell_type": "code",
   "execution_count": 5,
   "metadata": {},
   "outputs": [
    {
     "name": "stdout",
     "output_type": "stream",
     "text": [
      "+------+--------------------+--------------------+--------------------+--------+\n",
      "|    id|                name|         ingredients|               steps|  source|\n",
      "+------+--------------------+--------------------+--------------------+--------+\n",
      "|137739|arriba   baked wi...|'winter squash', ...|'make a choice an...|food.com|\n",
      "| 31490|a bit different  ...|'prepared pizza c...|'preheat oven to ...|food.com|\n",
      "|112140|all in the kitche...|'ground beef', 'y...|'brown ground bee...|food.com|\n",
      "| 59389|  alouette  potatoes|'spreadable chees...|'place potatoes i...|food.com|\n",
      "| 44061|amish  tomato ket...|'tomato juice', '...|'mix all ingredie...|food.com|\n",
      "|  5289|apple a day  milk...|'milk', 'vanilla ...|'combine ingredie...|food.com|\n",
      "| 25274|aww  marinated ol...|'fennel seeds', '...|'toast the fennel...|food.com|\n",
      "| 67888|backyard style  b...|'pork spareribs',...|'in a medium sauc...|food.com|\n",
      "| 70971|bananas 4 ice cre...|'chocolate sandwi...|'crumble cookies ...|food.com|\n",
      "| 75452|beat this  banana...|'sugar', 'unsalte...|'preheat oven to ...|food.com|\n",
      "|109439|berry  good sandw...|'whole berry cran...|'in medium size b...|food.com|\n",
      "| 42198|better than sex  ...|'vanilla wafers',...|'crush vanilla wa...|food.com|\n",
      "| 67547|better then bush ...|'great northern b...|'in a very large ...|food.com|\n",
      "|107517|boat house  colla...|'collard greens',...|'put prepared gre...|food.com|\n",
      "| 39959|calm your nerves ...|'gentian root', '...|'combine herbs', ...|food.com|\n",
      "| 63986|chicken lickin  g...|'lean pork chops'...|'dredge pork chop...|food.com|\n",
      "| 43026|      chile rellenos|'egg roll wrap', ...|'drain green chil...|food.com|\n",
      "| 23933|      chinese  candy|'butterscotch chi...|'melt butterscotc...|food.com|\n",
      "|  8559|  chinese  chop suey|'celery', 'onion'...|'brown ground mea...|food.com|\n",
      "| 23850|cream  of caulifl...|'canola oil', 'on...|'heat the oil or ...|food.com|\n",
      "+------+--------------------+--------------------+--------------------+--------+\n",
      "only showing top 20 rows\n",
      "\n"
     ]
    }
   ],
   "source": [
    "# Check data\n",
    "data.show()"
   ]
  },
  {
   "cell_type": "code",
   "execution_count": 4,
   "metadata": {},
   "outputs": [
    {
     "name": "stdout",
     "output_type": "stream",
     "text": [
      "root\n",
      " |-- id: string (nullable = true)\n",
      " |-- name: string (nullable = true)\n",
      " |-- ingredients: string (nullable = true)\n",
      " |-- steps: string (nullable = true)\n",
      " |-- source: string (nullable = true)\n",
      "\n"
     ]
    }
   ],
   "source": [
    "# Check schema\n",
    "data.printSchema()"
   ]
  },
  {
   "cell_type": "code",
   "execution_count": 4,
   "metadata": {},
   "outputs": [],
   "source": [
    "# Convert ingredients to alphabetically sorted array of strings\n",
    "data = data.withColumn(\"ingredients\", f.regexp_replace('ingredients', \"'|'\", '')) \\\n",
    "    .withColumn(\"ingredients\", split(col(\"ingredients\"),\", \")) \\\n",
    "    .withColumn(\"ingredients\", f.array_sort('ingredients'))"
   ]
  },
  {
   "cell_type": "code",
   "execution_count": 5,
   "metadata": {},
   "outputs": [
    {
     "name": "stdout",
     "output_type": "stream",
     "text": [
      "root\n",
      " |-- id: string (nullable = true)\n",
      " |-- name: string (nullable = true)\n",
      " |-- ingredients: array (nullable = true)\n",
      " |    |-- element: string (containsNull = true)\n",
      " |-- steps: string (nullable = true)\n",
      " |-- source: string (nullable = true)\n",
      "\n"
     ]
    }
   ],
   "source": [
    "# Check schema\n",
    "data.printSchema()"
   ]
  },
  {
   "cell_type": "code",
   "execution_count": 21,
   "metadata": {},
   "outputs": [
    {
     "name": "stdout",
     "output_type": "stream",
     "text": [
      "(281846, 5)\n"
     ]
    }
   ],
   "source": [
    "# Check shape\n",
    "print((data.count(), len(data.columns)))"
   ]
  },
  {
   "cell_type": "code",
   "execution_count": 39,
   "metadata": {},
   "outputs": [],
   "source": [
    "# Drop duplicate ingredients\n",
    "data = data.dropDuplicates([\"ingredients\"])"
   ]
  },
  {
   "cell_type": "code",
   "execution_count": 23,
   "metadata": {},
   "outputs": [
    {
     "name": "stdout",
     "output_type": "stream",
     "text": [
      "(279153, 5)\n"
     ]
    }
   ],
   "source": [
    "# Check shape\n",
    "print((data.count(), len(data.columns)))"
   ]
  },
  {
   "cell_type": "code",
   "execution_count": 40,
   "metadata": {},
   "outputs": [],
   "source": [
    "# Drop duplicate steps\n",
    "data = data.dropDuplicates(['steps'])"
   ]
  },
  {
   "cell_type": "code",
   "execution_count": 25,
   "metadata": {},
   "outputs": [
    {
     "name": "stdout",
     "output_type": "stream",
     "text": [
      "(278606, 5)\n"
     ]
    }
   ],
   "source": [
    "# Check shape\n",
    "print((data.count(), len(data.columns)))"
   ]
  },
  {
   "cell_type": "code",
   "execution_count": 41,
   "metadata": {},
   "outputs": [],
   "source": [
    "# Drop NAs\n",
    "data = data.dropna(how='any')"
   ]
  },
  {
   "cell_type": "code",
   "execution_count": 27,
   "metadata": {},
   "outputs": [
    {
     "name": "stdout",
     "output_type": "stream",
     "text": [
      "(278605, 5)\n"
     ]
    }
   ],
   "source": [
    "# Check shape\n",
    "print((data.count(), len(data.columns)))"
   ]
  },
  {
   "cell_type": "code",
   "execution_count": 15,
   "metadata": {},
   "outputs": [
    {
     "name": "stdout",
     "output_type": "stream",
     "text": [
      "+------+--------------------+--------------------+--------------------+--------+\n",
      "|    id|                name|         ingredients|               steps|  source|\n",
      "+------+--------------------+--------------------+--------------------+--------+\n",
      "|345571|zucchini  meatbal...|[cayenne pepper, ...|\"'meatballs'\", 'w...|food.com|\n",
      "|  1074|bread machine sag...|[active dry yeast...|\"add all of the i...|food.com|\n",
      "|183757|blueberry muffin ...|[active dry yeast...|\"add all the ingr...|food.com|\n",
      "|476699|swedish rye bread...|[bread flour, fas...|\"add all the ingr...|food.com|\n",
      "| 37278|pesto sourdough loaf|[black pepper, br...|\"add ingredients ...|food.com|\n",
      "|277217|rye bread for the...|[bread flour, bre...|\"add ingredients ...|food.com|\n",
      "| 31194|orange hazelnut b...|[bread flour, bre...|\"add the ingredie...|food.com|\n",
      "|430482|whole wheat potat...|[egg, honey, mash...|\"add the ingredie...|food.com|\n",
      "|112214|baked zucchini eg...|[chicken stock, c...|\"arrange vegetabl...|food.com|\n",
      "| 37421|ultimate bread pu...|[bread, egg yolks...|\"avoid soft super...|food.com|\n",
      "|418997|sarasota s spicy ...|[bacon, butter, c...|\"bacon -- in a me...|food.com|\n",
      "|103186|yorkshire spice b...|[active dry yeast...|\"bake bread accor...|food.com|\n",
      "|283148|hearty vegetable ...|[beef broth, carr...|\"be forwarned: i ...|food.com|\n",
      "| 31086|   banana split pies|[bananas, confect...|\"blend together c...|food.com|\n",
      "| 89549|    skorbits squares|[eagle brand cond...|\"break up ritz cr...|food.com|\n",
      "|152906|chocolate angel cake|[baking cocoa, ca...|\"cake: sift toget...|food.com|\n",
      "|364986|ginger ale roast ...|[beef roast, brow...|\"coat roast with ...|food.com|\n",
      "| 56891|baked potato brea...|[bacon bits, drie...|\"combine accordin...|food.com|\n",
      "| 70901|little almond but...|[confectioners su...|\"combine all ingr...|food.com|\n",
      "|216271|   after dinner mint|[espresso, irish ...|\"combine coffee o...|food.com|\n",
      "+------+--------------------+--------------------+--------------------+--------+\n",
      "only showing top 20 rows\n",
      "\n"
     ]
    }
   ],
   "source": [
    "# Check pre-processed data\n",
    "data.show()"
   ]
  },
  {
   "cell_type": "code",
   "execution_count": 42,
   "metadata": {},
   "outputs": [],
   "source": [
    "# Create df of indexed recipe IDs\n",
    "row_with_index = Row(\"id\",\"name\",\"ingredients\",\"steps\",\"source\",\"rec_id\")\n",
    "new_schema = StructType(data.schema.fields[:] + [StructField(\"rec_id\", IntegerType(), False)])\n",
    "zipped_rdd = data.rdd.zipWithIndex()\n",
    "indexed = (zipped_rdd.map(lambda r: row_with_index(*list(r[0]) + [r[1]])).toDF(new_schema))"
   ]
  },
  {
   "cell_type": "code",
   "execution_count": 45,
   "metadata": {},
   "outputs": [],
   "source": [
    "# Save parquet file of indexed recipe IDs \n",
    "indexed.write.save(\"input/indexed.parquet\")"
   ]
  },
  {
   "cell_type": "code",
   "execution_count": 4,
   "metadata": {},
   "outputs": [],
   "source": [
    "# Load parquet file of indexed recipe IDs \n",
    "data = spark.read.load(\"input/indexed.parquet\")"
   ]
  },
  {
   "cell_type": "code",
   "execution_count": 87,
   "metadata": {},
   "outputs": [],
   "source": [
    "# Select variables and check data \n",
    "data = data.select(\"rec_id\", \"name\", \"ingredients\", \"steps\").sort(data.rec_id.asc())"
   ]
  },
  {
   "cell_type": "code",
   "execution_count": 88,
   "metadata": {},
   "outputs": [
    {
     "name": "stdout",
     "output_type": "stream",
     "text": [
      "+------+--------------------+--------------------+--------------------+\n",
      "|rec_id|                name|         ingredients|               steps|\n",
      "+------+--------------------+--------------------+--------------------+\n",
      "|     0|zucchini  meatbal...|[cayenne pepper, ...|\"'meatballs'\", 'w...|\n",
      "|     1|bread machine sag...|[active dry yeast...|\"add all of the i...|\n",
      "|     2|blueberry muffin ...|[active dry yeast...|\"add all the ingr...|\n",
      "|     3|swedish rye bread...|[bread flour, fas...|\"add all the ingr...|\n",
      "|     4|pesto sourdough loaf|[black pepper, br...|\"add ingredients ...|\n",
      "|     5|rye bread for the...|[bread flour, bre...|\"add ingredients ...|\n",
      "|     6|orange hazelnut b...|[bread flour, bre...|\"add the ingredie...|\n",
      "|     7|whole wheat potat...|[egg, honey, mash...|\"add the ingredie...|\n",
      "|     8|baked zucchini eg...|[chicken stock, c...|\"arrange vegetabl...|\n",
      "|     9|ultimate bread pu...|[bread, egg yolks...|\"avoid soft super...|\n",
      "|    10|sarasota s spicy ...|[bacon, butter, c...|\"bacon -- in a me...|\n",
      "|    11|yorkshire spice b...|[active dry yeast...|\"bake bread accor...|\n",
      "|    12|hearty vegetable ...|[beef broth, carr...|\"be forwarned: i ...|\n",
      "|    13|   banana split pies|[bananas, confect...|\"blend together c...|\n",
      "|    14|    skorbits squares|[eagle brand cond...|\"break up ritz cr...|\n",
      "|    15|chocolate angel cake|[baking cocoa, ca...|\"cake: sift toget...|\n",
      "|    16|ginger ale roast ...|[beef roast, brow...|\"coat roast with ...|\n",
      "|    17|baked potato brea...|[bacon bits, drie...|\"combine accordin...|\n",
      "|    18|little almond but...|[confectioners su...|\"combine all ingr...|\n",
      "|    19|   after dinner mint|[espresso, irish ...|\"combine coffee o...|\n",
      "+------+--------------------+--------------------+--------------------+\n",
      "only showing top 20 rows\n",
      "\n"
     ]
    }
   ],
   "source": [
    "# Check data\n",
    "data.show()"
   ]
  },
  {
   "cell_type": "code",
   "execution_count": 84,
   "metadata": {},
   "outputs": [
    {
     "name": "stdout",
     "output_type": "stream",
     "text": [
      "root\n",
      " |-- rec_id: integer (nullable = true)\n",
      " |-- name: string (nullable = true)\n",
      " |-- ingredients: array (nullable = true)\n",
      " |    |-- element: string (containsNull = true)\n",
      " |-- steps: string (nullable = true)\n",
      "\n"
     ]
    }
   ],
   "source": [
    "# Check schema\n",
    "data.printSchema()"
   ]
  },
  {
   "cell_type": "code",
   "execution_count": 32,
   "metadata": {},
   "outputs": [
    {
     "name": "stdout",
     "output_type": "stream",
     "text": [
      "(278605, 6)\n"
     ]
    }
   ],
   "source": [
    "# Check shape\n",
    "print((indexed.count(), len(indexed.columns)))"
   ]
  },
  {
   "cell_type": "code",
   "execution_count": null,
   "metadata": {},
   "outputs": [],
   "source": [
    "# Create an average word vector for each recipe document\n",
    "word2vec = Word2Vec(vectorSize = 100, minCount = 1, inputCol = 'ingredients', outputCol = 'word_vec', seed=123)\n",
    "pipeline = Pipeline(stages=[word2vec])\n",
    "\n",
    "# Fit the model\n",
    "pipeline_mdl = pipeline.fit(data)\n",
    "\n",
    "# Save the pipeline model \n",
    "#pipeline_mdl.write().overwrite().save('models/w2vmodel2' + 'pipe_txt')\n",
    "\n",
    "# Load the pipeline trained Word2Vec model \n",
    "pipeline_mdl = PipelineModel.load('models/w2vmodel2' + 'pipe_txt')\n",
    "\n",
    "# Transform the recipes data\n",
    "recipes_pipeline_df = pipeline_mdl.transform(data)"
   ]
  },
  {
   "cell_type": "code",
   "execution_count": 33,
   "metadata": {},
   "outputs": [
    {
     "name": "stdout",
     "output_type": "stream",
     "text": [
      "+------+--------------------+--------------------+--------------------+\n",
      "|rec_id|                name|         ingredients|            word_vec|\n",
      "+------+--------------------+--------------------+--------------------+\n",
      "|     0|zucchini  meatbal...|[cayenne pepper, ...|[0.06053330030408...|\n",
      "|     1|bread machine sag...|[active dry yeast...|[0.03495738882985...|\n",
      "|     2|blueberry muffin ...|[active dry yeast...|[-0.0334744214545...|\n",
      "|     3|swedish rye bread...|[bread flour, fas...|[0.08946106266230...|\n",
      "|     4|pesto sourdough loaf|[black pepper, br...|[0.10544267215300...|\n",
      "|     5|rye bread for the...|[bread flour, bre...|[0.14594541365901...|\n",
      "|     6|orange hazelnut b...|[bread flour, bre...|[-0.0541136398445...|\n",
      "|     7|whole wheat potat...|[egg, honey, mash...|[0.21481899668773...|\n",
      "|     8|baked zucchini eg...|[chicken stock, c...|[-0.0131356265734...|\n",
      "|     9|ultimate bread pu...|[bread, egg yolks...|[-0.0043353001321...|\n",
      "|    10|sarasota s spicy ...|[bacon, butter, c...|[0.04410257816521...|\n",
      "|    11|yorkshire spice b...|[active dry yeast...|[-0.0243087680012...|\n",
      "|    12|hearty vegetable ...|[beef broth, carr...|[-0.0736475226215...|\n",
      "|    13|   banana split pies|[bananas, confect...|[-0.0303259160783...|\n",
      "|    14|    skorbits squares|[eagle brand cond...|[-0.1033448390662...|\n",
      "|    15|chocolate angel cake|[baking cocoa, ca...|[-0.1730474481980...|\n",
      "|    16|ginger ale roast ...|[beef roast, brow...|[-0.0040803633630...|\n",
      "|    17|baked potato brea...|[bacon bits, drie...|[0.03134999908506...|\n",
      "|    18|little almond but...|[confectioners su...|[-0.1207772213965...|\n",
      "|    19|   after dinner mint|[espresso, irish ...|[0.29878863319754...|\n",
      "+------+--------------------+--------------------+--------------------+\n",
      "only showing top 20 rows\n",
      "\n"
     ]
    }
   ],
   "source": [
    "# Show the transformed ingredients data\n",
    "recipes_pipeline_df.select( 'rec_id', 'name', 'ingredients', 'word_vec'). \\\n",
    "    sort(recipes_pipeline_df.rec_id.asc()).show(truncate=True)"
   ]
  },
  {
   "cell_type": "code",
   "execution_count": 46,
   "metadata": {},
   "outputs": [],
   "source": [
    "# Gather all the vectors in a list\n",
    "recipe_vecs = recipes_pipeline_df.select('rec_id', 'word_vec'). \\\n",
    "    sort(recipes_pipeline_df.rec_id.asc()). \\\n",
    "    rdd.map(lambda x: (x[0], x[1])).collect()"
   ]
  },
  {
   "cell_type": "code",
   "execution_count": 107,
   "metadata": {},
   "outputs": [
    {
     "data": {
      "text/plain": [
       "[(0,\n",
       "  DenseVector([0.0605, -0.0882, -0.1325, -0.1291, -0.1006, -0.0792, 0.0653, -0.0249, -0.015, -0.2289, -0.0938, -0.0815, -0.0122, 0.0836, 0.1927, -0.0984, -0.0098, -0.156, 0.0833, 0.0914, -0.1048, -0.0912, -0.1469, -0.0431, -0.1604, -0.1987, -0.0776, -0.0752, 0.1594, 0.0261, -0.0103, -0.1287, -0.0439, -0.0019, -0.0814, -0.077, -0.1393, -0.082, -0.0881, -0.0945, -0.0495, -0.2394, 0.0107, 0.0942, -0.1456, -0.2012, 0.099, 0.0364, -0.1075, -0.106, 0.2433, -0.2131, -0.0061, -0.0205, 0.0602, 0.069, 0.0095, -0.0476, -0.1219, 0.0015, 0.0118, -0.0374, -0.1183, -0.087, -0.0356, -0.0472, 0.0635, -0.0162, -0.106, 0.0523, -0.0803, -0.1872, 0.0188, 0.0998, 0.0832, 0.0674, 0.0181, -0.1212, -0.0299, -0.0258, -0.0826, 0.1441, -0.2444, 0.0504, -0.0753, 0.0601, -0.0812, -0.1406, 0.088, 0.2873, -0.0966, -0.0087, -0.1911, -0.0846, -0.075, -0.0028, -0.0366, 0.0266, -0.05, -0.1139]))]"
      ]
     },
     "execution_count": 107,
     "metadata": {},
     "output_type": "execute_result"
    }
   ],
   "source": [
    "# Take a look at the first recipe vector\n",
    "recipe_vecs[:1]"
   ]
  },
  {
   "cell_type": "code",
   "execution_count": 11,
   "metadata": {},
   "outputs": [],
   "source": [
    "# Function to calculate the cosine similarity of two vectors\n",
    "def CosineSim(vec1, vec2): \n",
    "  return np.dot(vec1, vec2) / np.sqrt(np.dot(vec1, vec1)) / np.sqrt(np.dot(vec2, vec2)) "
   ]
  },
  {
   "cell_type": "code",
   "execution_count": 14,
   "metadata": {},
   "outputs": [],
   "source": [
    "# Function to get recipe details\n",
    "def GetRecipeDetails(input_rec):\n",
    "  \n",
    "  a = input_rec.alias(\"a\")\n",
    "  b = indexed.alias(\"b\")\n",
    "  \n",
    "  return a.join(b, col(\"a.rec_id\") == col(\"b.rec_id\"), 'inner') \\\n",
    "        .select([col('a.'+xx) for xx in a.columns] + [col('b.name'),col('b.ingredients'),\n",
    "                                                      col('b.steps')])"
   ]
  },
  {
   "cell_type": "code",
   "execution_count": 52,
   "metadata": {},
   "outputs": [],
   "source": [
    "# Create function to recommend top 5 recipes based on ingredient keywords\n",
    "\n",
    "def KeywordRecommender(key_words, sim_rec_limit=5):\n",
    "    \n",
    "  print('\\nRecipes containing your ingredients: \"' + key_words + '\"')\n",
    "    \n",
    "  input_words_df = sc.parallelize([(0, key_words)]).toDF(['rec_id', 'ingredients'])\n",
    "    \n",
    "  # Pre-process keywords into alphabetically sorted array of strings\n",
    "  input_words_df = input_words_df.withColumn(\"ingredients\", f.regexp_replace('ingredients', \"'|'\", '')) \\\n",
    "         .withColumn(\"ingredients\", split(col(\"ingredients\"),\", \"))\n",
    "  \n",
    "  # Transform the keywords into vectors \n",
    "  input_words_df = pipeline_mdl.transform(input_words_df)\n",
    "    \n",
    "  # Select average word2vec vectors\n",
    "  input_key_words_vec = input_words_df.select('word_vec').collect()[0][0]\n",
    "    \n",
    "  # Get cosine similarity scores\n",
    "  sim_rec_byword_rdd = sc.parallelize((i[0], float(CosineSim(input_key_words_vec, i[1]))) for i in recipe_vecs)\n",
    "\n",
    "  sim_rec_byword_df = spark.createDataFrame(sim_rec_byword_rdd) \\\n",
    "         .withColumnRenamed('_1', 'rec_id') \\\n",
    "         .withColumnRenamed('_2', 'score') \\\n",
    "         .orderBy(\"score\", ascending = False)\n",
    "  \n",
    "  # Return top 5 similar recipes\n",
    "  rec_det = GetRecipeDetails(sim_rec_byword_df)\n",
    "  rec_det.createOrReplaceTempView(\"tmp\")\n",
    "    \n",
    "  # Filter out recommended recipes   \n",
    "  query = '''SELECT * FROM tmp\n",
    "  WHERE score >= 0.6\n",
    "  '''\n",
    "  \n",
    "  filtered = spark.sql(query)\n",
    "  df = filtered.orderBy(\"score\", ascending = False).limit(sim_rec_limit)\n",
    "\n",
    "  return df"
   ]
  },
  {
   "cell_type": "code",
   "execution_count": 16,
   "metadata": {},
   "outputs": [
    {
     "name": "stdout",
     "output_type": "stream",
     "text": [
      "\n",
      "Recipes containing your ingredients: \"veal roast, bacon, carrots, parsley, thyme, onion, butter, pepper\"\n",
      "+------+------------------+--------------------+--------------------+--------------------+\n",
      "|rec_id|             score|                name|         ingredients|               steps|\n",
      "+------+------------------+--------------------+--------------------+--------------------+\n",
      "|194706|0.9126532135298442|mr  grant you too...|[bacon, bay leaf,...|'preheat oven to ...|\n",
      "| 75266|0.8930075774494053|german bean soup ...|[bacon, bay leave...|'drain the soaked...|\n",
      "| 53481|0.8907279378984337|boeuf bourguignon...|[bacon, bay leaf,...|'fry 6 strips bac...|\n",
      "| 86763|0.8880711277807383|onions and noodle...|[beef bouillon, b...|'saute onions in ...|\n",
      "|227040| 0.884325469812452| delicious lamb stew|[bacon, boneless ...|'cut the meat int...|\n",
      "+------+------------------+--------------------+--------------------+--------------------+\n",
      "\n"
     ]
    }
   ],
   "source": [
    "# Test keywords similarity to recipe ingredients\n",
    "\n",
    "keywords = 'veal roast, bacon, carrots, parsley, thyme, onion, butter, pepper'\n",
    "\n",
    "KeywordRecommender(keywords).show(5)"
   ]
  }
 ],
 "metadata": {
  "interpreter": {
   "hash": "21037fb98e994f88acfc742685c115d9fa36d3331f67166e1978f3d9e632804e"
  },
  "kernelspec": {
   "display_name": "Python 3.8.12 ('tf24pc')",
   "language": "python",
   "name": "python3"
  },
  "language_info": {
   "codemirror_mode": {
    "name": "ipython",
    "version": 3
   },
   "file_extension": ".py",
   "mimetype": "text/x-python",
   "name": "python",
   "nbconvert_exporter": "python",
   "pygments_lexer": "ipython3",
   "version": "3.8.12"
  },
  "orig_nbformat": 4
 },
 "nbformat": 4,
 "nbformat_minor": 2
}
